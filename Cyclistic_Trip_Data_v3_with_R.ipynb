{
  "nbformat": 4,
  "nbformat_minor": 0,
  "metadata": {
    "colab": {
      "name": "Cyclistic Trip Data_v3 with R.ipynb",
      "provenance": [],
      "authorship_tag": "ABX9TyOft2ujojYtoxdDJ235xm8F",
      "include_colab_link": true
    },
    "kernelspec": {
      "name": "ir",
      "display_name": "R"
    },
    "language_info": {
      "name": "R"
    }
  },
  "cells": [
    {
      "cell_type": "markdown",
      "metadata": {
        "id": "view-in-github",
        "colab_type": "text"
      },
      "source": [
        "<a href=\"https://colab.research.google.com/github/RConnaught/DESC624/blob/master/Cyclistic_Trip_Data_v3_with_R.ipynb\" target=\"_parent\"><img src=\"https://colab.research.google.com/assets/colab-badge.svg\" alt=\"Open In Colab\"/></a>"
      ]
    },
    {
      "cell_type": "markdown",
      "source": [
        "# Divy Exercise Full Year Analysis\n",
        "\n",
        "This analysis is based on the Divvy case study **\"Sophisiticated, Clear and Polished: Divvy and Data Visualization\"** written by Kevin Hartman (https://artscience.blog/home/divvy-dataviz-case-study)\n",
        "\n",
        "The purpose of this script is to consolidate download Divvy data into a single dataframe and then conduct simple analysis to help answer the key question: \"In what ways do members and casual riders use Divvy bikes differently?\""
      ],
      "metadata": {
        "id": "7jk0BjT6f-Cm"
      }
    },
    {
      "cell_type": "code",
      "source": [
        "library(tidyverse)"
      ],
      "metadata": {
        "colab": {
          "base_uri": "https://localhost:8080/"
        },
        "id": "53iK67bQDd30",
        "outputId": "a5a2f124-1565-4241-ec34-1a49d6865d46"
      },
      "execution_count": null,
      "outputs": [
        {
          "output_type": "stream",
          "name": "stderr",
          "text": [
            "Warning message in system(\"timedatectl\", intern = TRUE):\n",
            "“running command 'timedatectl' had status 1”\n",
            "── \u001b[1mAttaching packages\u001b[22m ─────────────────────────────────────── tidyverse 1.3.1 ──\n",
            "\n",
            "\u001b[32m✔\u001b[39m \u001b[34mggplot2\u001b[39m 3.3.6     \u001b[32m✔\u001b[39m \u001b[34mpurrr  \u001b[39m 0.3.4\n",
            "\u001b[32m✔\u001b[39m \u001b[34mtibble \u001b[39m 3.1.7     \u001b[32m✔\u001b[39m \u001b[34mdplyr  \u001b[39m 1.0.9\n",
            "\u001b[32m✔\u001b[39m \u001b[34mtidyr  \u001b[39m 1.2.0     \u001b[32m✔\u001b[39m \u001b[34mstringr\u001b[39m 1.4.0\n",
            "\u001b[32m✔\u001b[39m \u001b[34mreadr  \u001b[39m 2.1.2     \u001b[32m✔\u001b[39m \u001b[34mforcats\u001b[39m 0.5.1\n",
            "\n",
            "── \u001b[1mConflicts\u001b[22m ────────────────────────────────────────── tidyverse_conflicts() ──\n",
            "\u001b[31m✖\u001b[39m \u001b[34mdplyr\u001b[39m::\u001b[32mfilter()\u001b[39m masks \u001b[34mstats\u001b[39m::filter()\n",
            "\u001b[31m✖\u001b[39m \u001b[34mdplyr\u001b[39m::\u001b[32mlag()\u001b[39m    masks \u001b[34mstats\u001b[39m::lag()\n",
            "\n"
          ]
        }
      ]
    },
    {
      "cell_type": "code",
      "source": [
        "install.packages('lubridate')"
      ],
      "metadata": {
        "colab": {
          "base_uri": "https://localhost:8080/"
        },
        "id": "6ZUoFlND93ND",
        "outputId": "209f4c34-ac46-4203-fb48-20eb9ff049c1"
      },
      "execution_count": null,
      "outputs": [
        {
          "output_type": "stream",
          "name": "stderr",
          "text": [
            "Installing package into ‘/usr/local/lib/R/site-library’\n",
            "(as ‘lib’ is unspecified)\n",
            "\n"
          ]
        }
      ]
    },
    {
      "cell_type": "code",
      "source": [
        "library(lubridate)"
      ],
      "metadata": {
        "colab": {
          "base_uri": "https://localhost:8080/"
        },
        "id": "ua_eLBQ_97vh",
        "outputId": "ce8ef06b-74b7-48cc-e011-2c450ee8c60f"
      },
      "execution_count": null,
      "outputs": [
        {
          "output_type": "stream",
          "name": "stderr",
          "text": [
            "\n",
            "Attaching package: ‘lubridate’\n",
            "\n",
            "\n",
            "The following objects are masked from ‘package:base’:\n",
            "\n",
            "    date, intersect, setdiff, union\n",
            "\n",
            "\n"
          ]
        }
      ]
    },
    {
      "cell_type": "code",
      "source": [
        "cyc_202205 = ('/content/202205-divvy-tripdata.csv')\n",
        "cyc_202204 = ('/content/202204-divvy-tripdata.csv')\n",
        "cyc_202203 = ('/content/202203-divvy-tripdata.csv')\n",
        "cyc_202202 = ('/content/202202-divvy-tripdata.csv')\n",
        "cyc_202201 = ('/content/202201-divvy-tripdata.csv')\n",
        "cyc_202112 = ('/content/202112-divvy-tripdata.csv')\n",
        "cyc_202111 = ('/content/202111-divvy-tripdata.csv')\n",
        "cyc_202110 = ('/content/202110-divvy-tripdata.csv')\n",
        "cyc_202109 = ('/content/202109-divvy-tripdata.csv')\n",
        "cyc_202108 = ('/content/202108-divvy-tripdata.csv')\n",
        "cyc_202107 = ('/content/202107-divvy-tripdata.csv')\n",
        "cyc_202106 = ('/content/202106-divvy-tripdata.csv')"
      ],
      "metadata": {
        "id": "EB8obmqX-Ph5"
      },
      "execution_count": null,
      "outputs": []
    },
    {
      "cell_type": "markdown",
      "source": [
        "### Wrangle Data and Combine into a single file"
      ],
      "metadata": {
        "id": "FTUgJek4AgUD"
      }
    },
    {
      "cell_type": "code",
      "source": [
        "colnames(cyc_202106) <- c('ride_id', 'rideable_type', 'started_at', 'ended_at', 'start_station_name', 'start_station_id', 'end_station_name','end_station_id', 'start_lat', 'start_lng', 'end_lat', 'end_lng', 'member_casual')"
      ],
      "metadata": {
        "colab": {
          "base_uri": "https://localhost:8080/",
          "height": 235
        },
        "id": "-Y56oA7aAn7q",
        "outputId": "91d181f5-464d-4f77-ad62-b0336c6c477b"
      },
      "execution_count": null,
      "outputs": [
        {
          "output_type": "error",
          "ename": "ERROR",
          "evalue": "ignored",
          "traceback": [
            "Error in `colnames<-`(`*tmp*`, value = c(\"ride_id\", \"rideable_type\", \"started_at\", : attempt to set 'colnames' on an object with less than two dimensions\nTraceback:\n",
            "1. `colnames<-`(`*tmp*`, value = c(\"ride_id\", \"rideable_type\", \"started_at\", \n . \"ended_at\", \"start_station_name\", \"start_station_id\", \"end_station_name\", \n . \"end_station_id\", \"start_lat\", \"start_lng\", \"end_lat\", \"end_lng\", \n . \"member_casual\"))",
            "2. stop(\"attempt to set 'colnames' on an object with less than two dimensions\")"
          ]
        }
      ]
    },
    {
      "cell_type": "code",
      "source": [
        "attributes(cyc_202106)"
      ],
      "metadata": {
        "id": "SSU3MZLCFXd0",
        "outputId": "0a77894a-dc9a-42a8-ceb1-15faa6e9a90c",
        "colab": {
          "base_uri": "https://localhost:8080/",
          "height": 34
        }
      },
      "execution_count": null,
      "outputs": [
        {
          "output_type": "display_data",
          "data": {
            "text/plain": [
              "NULL"
            ]
          },
          "metadata": {}
        }
      ]
    },
    {
      "cell_type": "code",
      "source": [
        "colnames(cyc_202205, do.NULL = FALSE)"
      ],
      "metadata": {
        "colab": {
          "base_uri": "https://localhost:8080/",
          "height": 34
        },
        "id": "hLEibfjMAttI",
        "outputId": "e89fbd41-f4e6-46f8-90db-88c999db4078"
      },
      "execution_count": null,
      "outputs": [
        {
          "output_type": "display_data",
          "data": {
            "text/html": [
              "'col1'"
            ],
            "text/markdown": "'col1'",
            "text/latex": "'col1'",
            "text/plain": [
              "[1] \"col1\""
            ]
          },
          "metadata": {}
        }
      ]
    },
    {
      "cell_type": "code",
      "source": [
        ""
      ],
      "metadata": {
        "id": "R_uKKZdwA387"
      },
      "execution_count": null,
      "outputs": []
    }
  ]
}